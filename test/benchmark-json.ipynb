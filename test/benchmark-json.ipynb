{
 "cells": [
  {
   "cell_type": "markdown",
   "metadata": {},
   "source": [
    "## benchmark-json"
   ]
  },
  {
   "cell_type": "code",
   "execution_count": 1,
   "metadata": {},
   "outputs": [],
   "source": [
    "## RBNF.hs\n",
    "from rbnfjson.parser_wrap import parse as rbnf_parse\n",
    "# To build a parser, write .rbnf and .rlex files and use following commands to produce a generated parser\n",
    "#      rbnf-pygen json.rbnf json.rlex .\\parser_generated.py --k 1 --traceback\n",
    "# Check ./rbnfjson/** for mode details "
   ]
  },
  {
   "cell_type": "code",
   "execution_count": 2,
   "metadata": {},
   "outputs": [],
   "source": [
    "## Lark-parser\n",
    "from lark import Lark, Transformer, v_args\n",
    "\n",
    "json_grammar = r\"\"\"\n",
    "    ?start: value\n",
    "    ?value: object\n",
    "          | array\n",
    "          | string\n",
    "          | SIGNED_NUMBER      -> number\n",
    "          | \"true\"             -> true\n",
    "          | \"false\"            -> false\n",
    "          | \"null\"             -> null\n",
    "    array  : \"[\" [value (\",\" value)*] \"]\"\n",
    "    object : \"{\" [pair (\",\" pair)*] \"}\"\n",
    "    pair   : string \":\" value\n",
    "    string : ESCAPED_STRING\n",
    "    %import common.ESCAPED_STRING\n",
    "    %import common.SIGNED_NUMBER\n",
    "    %import common.WS\n",
    "    %ignore WS\n",
    "\"\"\"\n",
    "\n",
    "\n",
    "class TreeToJson(Transformer):\n",
    "    @v_args(inline=True)\n",
    "    def string(self, s):\n",
    "        return s[1:-1].replace('\\\\\"', '\"')\n",
    "\n",
    "    array = list\n",
    "    pair = tuple\n",
    "    object = dict\n",
    "    number = v_args(inline=True)(float)\n",
    "\n",
    "    null = lambda self, _: None\n",
    "    true = lambda self, _: True\n",
    "    false = lambda self, _: False\n",
    "\n",
    "\n",
    "### Create the JSON parser with Lark, using the Earley algorithm\n",
    "# json_parser = Lark(json_grammar, parser='earley', lexer='standard')\n",
    "# def parse(x):\n",
    "#     return TreeToJson().transform(json_parser.parse(x))\n",
    "\n",
    "### Create the JSON parser with Lark, using the LALR algorithm\n",
    "json_parser = Lark(json_grammar, parser='lalr',\n",
    "                   # Using the standard lexer isn't required, and isn't usually recommended.\n",
    "                   # But, it's good enough for JSON, and it's slightly faster.\n",
    "                   lexer='standard',  # Disabling propagate_positions and placeholders slightly improves speed\n",
    "                   propagate_positions=False, maybe_placeholders=False,\n",
    "                   # Using an internal transformer is faster and more memory efficient\n",
    "                   transformer=TreeToJson())\n",
    "lark_parse = json_parser.parse"
   ]
  },
  {
   "cell_type": "code",
   "execution_count": 3,
   "metadata": {},
   "outputs": [],
   "source": [
    "## Python json lib\n",
    "from json import loads as python_json_parse"
   ]
  },
  {
   "cell_type": "code",
   "execution_count": 4,
   "metadata": {},
   "outputs": [
    {
     "name": "stdout",
     "output_type": "stream",
     "text": [
      "time cost of parsing example json\n",
      "cpython json lib: 0.06137579999999998\n",
      "rbnf parse json: 4.274371299999999\n",
      "lark parse json 4.8283969\n"
     ]
    }
   ],
   "source": [
    "text = \"\"\"\n",
    "{\n",
    "            \"empty_object\" : {},\n",
    "            \"empty_array\"  : [],\n",
    "            \"booleans\"     : { \"YES\" : true, \"NO\" : false },\n",
    "            \"numbers\"      : [ 0, 1, -2, 3.3, 4.4e5, 6.6e-7 ],\n",
    "            \"strings\"      : [ \"This\", [ \"And\" , \"That\", \"And a \\\\\"b\" ] ],\n",
    "            \"nothing\"      : null\n",
    "}\n",
    "\"\"\"\n",
    "\n",
    "from timeit import timeit\n",
    "\n",
    "assert python_json_parse(text) == rbnf_parse(text) == lark_parse(text)\n",
    "print(\"time cost of parsing example json\")\n",
    "print(\"cpython json lib:\", timeit(\"parse(text)\", globals=dict(text=text, parse=python_json_parse), number=10000))\n",
    "print(\"rbnf parse json:\", timeit(\"parse(text)\", globals=dict(text=text, parse=rbnf_parse), number=10000))\n",
    "print(\"lark parse json\", timeit(\"parse(text)\", globals=dict(text=text, parse=lark_parse), number=10000))"
   ]
  },
  {
   "cell_type": "markdown",
   "metadata": {},
   "source": [
    "## Notes\n",
    "The json-parser of lark is from https://github.com/lark-parser/lark/blob/master/examples/json_parser.py"
   ]
  }
 ],
 "metadata": {
  "kernelspec": {
   "display_name": "Python 3",
   "language": "python",
   "name": "python3"
  },
  "language_info": {
   "codemirror_mode": {
    "name": "ipython",
    "version": 3
   },
   "file_extension": ".py",
   "mimetype": "text/x-python",
   "name": "python",
   "nbconvert_exporter": "python",
   "pygments_lexer": "ipython3",
   "version": "3.7.4"
  }
 },
 "nbformat": 4,
 "nbformat_minor": 2
}
